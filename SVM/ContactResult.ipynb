{
 "cells": [
  {
   "cell_type": "code",
   "execution_count": 30,
   "outputs": [
    {
     "name": "stdout",
     "output_type": "stream",
     "text": [
      "../SVM/Nawiliwili Station\\Nawiliwili Station.cs_metrics12.csv\n",
      "  Metric     Value\n",
      "0     R2  0.856222\n",
      "1   RMSE  0.074650\n",
      "2    MAE  0.061165\n",
      "['Nawiliwili Station']\n",
      "12\n",
      "../SVM/Nawiliwili Station\\Nawiliwili Station.cs_metrics3.csv\n",
      "  Metric     Value\n",
      "0     R2  0.831418\n",
      "1   RMSE  0.068720\n",
      "2    MAE  0.058015\n",
      "['Nawiliwili Station']\n",
      "3\n",
      "../SVM/Nawiliwili Station\\Nawiliwili Station.cs_metrics6.csv\n",
      "  Metric     Value\n",
      "0     R2  0.873260\n",
      "1   RMSE  0.070833\n",
      "2    MAE  0.058242\n",
      "['Nawiliwili Station']\n",
      "6\n",
      "../SVM/Nawiliwili Station\\Nawiliwili Station.cs_metrics9.csv\n",
      "  Metric     Value\n",
      "0     R2  0.833192\n",
      "1   RMSE  0.070542\n",
      "2    MAE  0.059417\n",
      "['Nawiliwili Station']\n",
      "9\n",
      "  Metric     Value             Station Month\n",
      "0     R2  0.856222  Nawiliwili Station    12\n",
      "1   RMSE  0.074650  Nawiliwili Station    12\n",
      "2    MAE  0.061165  Nawiliwili Station    12\n",
      "0     R2  0.831418  Nawiliwili Station     3\n",
      "1   RMSE  0.068720  Nawiliwili Station     3\n",
      "2    MAE  0.058015  Nawiliwili Station     3\n",
      "0     R2  0.873260  Nawiliwili Station     6\n",
      "1   RMSE  0.070833  Nawiliwili Station     6\n",
      "2    MAE  0.058242  Nawiliwili Station     6\n",
      "0     R2  0.833192  Nawiliwili Station     9\n",
      "1   RMSE  0.070542  Nawiliwili Station     9\n",
      "2    MAE  0.059417  Nawiliwili Station     9\n"
     ]
    }
   ],
   "source": [
    "import pandas as pd\n",
    "import os\n",
    "\n",
    "# 创建一个空的数据框来存储合并后的数据\n",
    "merged_data = pd.DataFrame()\n",
    "\n",
    "# 指定文件夹路径\n",
    "folder_path = '../SVM/Nawiliwili Station'  # 将 \"your_folder_path\" 替换为包含这些文件的文件夹的实际路径\n",
    "\n",
    "# 遍历文件夹中的每个文件\n",
    "for filename in os.listdir(folder_path):\n",
    "    if filename.endswith(\".csv\"):  # 确保只处理 CSV 文件\n",
    "        file_path = os.path.join(folder_path, filename)\n",
    "        print(file_path)\n",
    "        # 读取 CSV 文件\n",
    "        data = pd.read_csv(file_path)\n",
    "        print(data)\n",
    "        # 从文件名中提取站点名和月份\n",
    "        print(filename.split(\".\")[0].split(\"_\"))\n",
    "        print(filename.split(\"cs\")[2].split('.')[0])\n",
    "        station_name = filename.split(\".\")[0].split(\"_\")[0]\n",
    "        month = filename.split(\"cs\")[2].split('.')[0]\n",
    "        data[\"Station\"] = station_name\n",
    "        data[\"Month\"] = month\n",
    "\n",
    "        # 合并数据到总数据框\n",
    "        merged_data = pd.concat([merged_data, data])\n",
    "# 打印合并后的数据\n",
    "print(merged_data)\n",
    "# 保存合并后的数据到新的 CSV 文件\n",
    "output_path = \"merged_data.csv\"  # 指定输出文件的路径和文件名\n",
    "merged_data.to_csv(output_path, index=False)"
   ],
   "metadata": {
    "collapsed": false,
    "pycharm": {
     "name": "#%%\n"
    }
   }
  },
  {
   "cell_type": "code",
   "execution_count": null,
   "outputs": [],
   "source": [],
   "metadata": {
    "collapsed": false,
    "pycharm": {
     "name": "#%%\n"
    }
   }
  }
 ],
 "metadata": {
  "kernelspec": {
   "display_name": "Python 3",
   "language": "python",
   "name": "python3"
  },
  "language_info": {
   "codemirror_mode": {
    "name": "ipython",
    "version": 2
   },
   "file_extension": ".py",
   "mimetype": "text/x-python",
   "name": "python",
   "nbconvert_exporter": "python",
   "pygments_lexer": "ipython2",
   "version": "2.7.6"
  }
 },
 "nbformat": 4,
 "nbformat_minor": 0
}