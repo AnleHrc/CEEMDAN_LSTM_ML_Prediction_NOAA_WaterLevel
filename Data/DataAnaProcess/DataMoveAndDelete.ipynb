{
 "cells": [
  {
   "cell_type": "code",
   "execution_count": 125,
   "outputs": [],
   "source": [
    "import os\n",
    "import glob\n",
    "import pandas as pd"
   ],
   "metadata": {
    "collapsed": false,
    "pycharm": {
     "name": "#%%\n"
    }
   }
  },
  {
   "cell_type": "markdown",
   "source": [
    "### 移动数据，在每一列前插入本列往下移动一格的数据"
   ],
   "metadata": {
    "collapsed": false,
    "pycharm": {
     "name": "#%% md\n"
    }
   }
  },
  {
   "cell_type": "code",
   "execution_count": 126,
   "outputs": [],
   "source": [
    "# df = pd.read_csv('../PreData/FLX_AU-ASM_FLUXNET2015_FULLSET_HH_2010-2014_2-4.csv')\n",
    "csv_path = '../PreData'\n",
    "csv_files = glob.glob(os.path.join(csv_path,'*.csv'))"
   ],
   "metadata": {
    "collapsed": false,
    "pycharm": {
     "name": "#%%\n"
    }
   }
  },
  {
   "cell_type": "code",
   "execution_count": 127,
   "outputs": [],
   "source": [
    "# for file in csv_files:\n",
    "#     df  = pd.read_csv(file)\n",
    "#     for column in df.columns[1:]:\n",
    "#         new_column = df[column].shift(1)\n",
    "#         df.insert(df.columns.get_loc(column),f'{column}_F',new_column)\n",
    "#     df.to_csv(file,index=False)"
   ],
   "metadata": {
    "collapsed": false,
    "pycharm": {
     "name": "#%%\n"
    }
   }
  },
  {
   "cell_type": "code",
   "execution_count": 128,
   "outputs": [],
   "source": [
    "# df = pd.read_csv('FLX_AU-ASM_FLUXNET2015_FULLSET_HH_2010-2014_2-4.csv')"
   ],
   "metadata": {
    "collapsed": false,
    "pycharm": {
     "name": "#%%\n"
    }
   }
  },
  {
   "cell_type": "markdown",
   "source": [
    "### 删除所有小于120的SW,并除以11.6之后删除小于2.3的SW"
   ],
   "metadata": {
    "collapsed": false,
    "pycharm": {
     "name": "#%% md\n"
    }
   }
  },
  {
   "cell_type": "code",
   "execution_count": 129,
   "outputs": [],
   "source": [
    "# for file in csv_files:\n",
    "#     df  = pd.read_csv(file)\n",
    "#     # 删除小于120的SW\n",
    "#     df = df[df['SW_IN_F']>=120]\n",
    "#     # 所有SW除以11.6\n",
    "#     df['SW_IN_F'] = df['SW_IN_F']/11.6\n",
    "#     # 删除所有小于2.3的SW\n",
    "#     df = df[df['SW_IN_F'] >= 2.3]\n",
    "#     df.to_csv(file,index=False)"
   ],
   "metadata": {
    "collapsed": false,
    "pycharm": {
     "name": "#%%\n"
    }
   }
  },
  {
   "cell_type": "markdown",
   "source": [
    "### 修改SW_IN_F并删除RH中-9999的元素"
   ],
   "metadata": {
    "collapsed": false,
    "pycharm": {
     "name": "#%% md\n"
    }
   }
  },
  {
   "cell_type": "code",
   "execution_count": 124,
   "outputs": [],
   "source": [
    "for file in csv_files:\n",
    "    df  = pd.read_csv(file)\n",
    "    # # 删除SW_IN_F_F列\n",
    "    # df.drop('SW_IN_F_F',axis=1,inplace=True)\n",
    "    #\n",
    "    # #在SW_IN_F前插入一列\n",
    "    # df.insert(df.columns.get_loc('SW_IN_F'),f'SW_IN_F_F',df['SW_IN_F'].shift(1))\n",
    "    # #\n",
    "    # # #删除RH中含有-9999的行\n",
    "    # df = df[df['RH']!=(-9999.0)]\n",
    "\n",
    "    #删除RH_F列\n",
    "    df.drop('RH_F',axis=1,inplace=True)\n",
    "\n",
    "    #在RH前插入一列\n",
    "    df.insert(df.columns.get_loc('RH'),f'RH_F',df['RH'].shift(1))\n",
    "\n",
    "    # #保存修改后的文件\n",
    "    df.to_csv(file,index=False)"
   ],
   "metadata": {
    "collapsed": false,
    "pycharm": {
     "name": "#%%\n"
    }
   }
  },
  {
   "cell_type": "markdown",
   "source": [
    "### 删除所有csv的第一行，目的是为了删除移动数据之后空出来的第一行"
   ],
   "metadata": {
    "collapsed": false,
    "pycharm": {
     "name": "#%% md\n"
    }
   }
  },
  {
   "cell_type": "code",
   "execution_count": 131,
   "outputs": [],
   "source": [
    "for file in csv_files:\n",
    "    df  = pd.read_csv(file)\n",
    "    #删除第一行数据\n",
    "    df = df.iloc[1:]\n",
    "    # #保存修改后的文件\n",
    "    df.to_csv(file,index=False)"
   ],
   "metadata": {
    "collapsed": false,
    "pycharm": {
     "name": "#%%\n"
    }
   }
  }
 ],
 "metadata": {
  "kernelspec": {
   "display_name": "Python 3",
   "language": "python",
   "name": "python3"
  },
  "language_info": {
   "codemirror_mode": {
    "name": "ipython",
    "version": 2
   },
   "file_extension": ".py",
   "mimetype": "text/x-python",
   "name": "python",
   "nbconvert_exporter": "python",
   "pygments_lexer": "ipython2",
   "version": "2.7.6"
  }
 },
 "nbformat": 4,
 "nbformat_minor": 0
}