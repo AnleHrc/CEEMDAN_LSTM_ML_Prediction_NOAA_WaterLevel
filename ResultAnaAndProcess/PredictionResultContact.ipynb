{
 "cells": [
  {
   "cell_type": "code",
   "execution_count": 28,
   "outputs": [],
   "source": [
    "import pandas as pd\n",
    "import os\n",
    "import glob"
   ],
   "metadata": {
    "collapsed": false,
    "pycharm": {
     "name": "#%%\n"
    }
   }
  },
  {
   "cell_type": "code",
   "execution_count": 29,
   "outputs": [
    {
     "name": "stdout",
     "output_type": "stream",
     "text": [
      "For Burlington Station.cs\n",
      "-------------------------\n",
      "For HONOLULU Station.cs\n",
      "-------------------------\n",
      "For KAHUKUI Station.cs\n",
      "-------------------------\n",
      "For LaJolla Station.cs\n",
      "-------------------------\n",
      "For Nawiliwili Station.cs\n",
      "-------------------------\n"
     ]
    }
   ],
   "source": [
    "csv_path = '../Data/NOAA/All Station'\n",
    "csv_files = glob.glob(os.path.join(csv_path,'*.csv'))\n",
    "\n",
    "sites_names=[]\n",
    "\n",
    "for file in csv_files:\n",
    " file_name = os.path.basename(file)\n",
    " first_underscore_index = file_name.find(\"_\")\n",
    " second_underscore_index = file_name.find(\"_\", first_underscore_index + 1)\n",
    " site_name = file_name[first_underscore_index + 1:second_underscore_index]\n",
    " print('For '+site_name)\n",
    " sites_names.append(site_name)\n",
    " print(\"-------------------------\")\n",
    "\n"
   ],
   "metadata": {
    "collapsed": false,
    "pycharm": {
     "name": "#%%\n"
    }
   }
  },
  {
   "cell_type": "code",
   "execution_count": 30,
   "outputs": [],
   "source": [
    "# sites_names[2]"
   ],
   "metadata": {
    "collapsed": false,
    "pycharm": {
     "name": "#%%\n"
    }
   }
  },
  {
   "cell_type": "code",
   "execution_count": 31,
   "outputs": [],
   "source": [
    "# print('ss{}'.format('s')+'ss')"
   ],
   "metadata": {
    "collapsed": false,
    "pycharm": {
     "name": "#%%\n"
    }
   }
  },
  {
   "cell_type": "code",
   "execution_count": 32,
   "outputs": [
    {
     "name": "stdout",
     "output_type": "stream",
     "text": [
      "         0\n",
      "0    2.337\n",
      "1    2.042\n",
      "2    1.643\n",
      "3    1.222\n",
      "4    0.843\n",
      "..     ...\n",
      "295  0.644\n",
      "296  1.150\n",
      "297  1.749\n",
      "298  2.114\n",
      "299  2.251\n",
      "\n",
      "[300 rows x 1 columns]\n",
      "         0\n",
      "0    0.236\n",
      "1    0.274\n",
      "2    0.280\n",
      "3    0.251\n",
      "4    0.159\n",
      "..     ...\n",
      "295  0.007\n",
      "296  0.077\n",
      "297  0.167\n",
      "298  0.268\n",
      "299  0.374\n",
      "\n",
      "[300 rows x 1 columns]\n",
      "         0\n",
      "0    0.472\n",
      "1    0.468\n",
      "2    0.393\n",
      "3    0.154\n",
      "4    0.053\n",
      "..     ...\n",
      "295  0.174\n",
      "296  0.297\n",
      "297  0.404\n",
      "298  0.495\n",
      "299  0.622\n",
      "\n",
      "[300 rows x 1 columns]\n",
      "         0\n",
      "0    0.008\n",
      "1   -0.151\n",
      "2   -0.146\n",
      "3    0.038\n",
      "4    0.336\n",
      "..     ...\n",
      "295  1.003\n",
      "296  0.960\n",
      "297  0.875\n",
      "298  0.773\n",
      "299  0.673\n",
      "\n",
      "[300 rows x 1 columns]\n",
      "         0\n",
      "0    0.312\n",
      "1    0.322\n",
      "2    0.274\n",
      "3    0.203\n",
      "4    0.122\n",
      "..     ...\n",
      "295  0.088\n",
      "296  0.170\n",
      "297  0.256\n",
      "298  0.360\n",
      "299  0.455\n",
      "\n",
      "[300 rows x 1 columns]\n"
     ]
    }
   ],
   "source": [
    "for site_name in sites_names:\n",
    "    df_True = pd.read_csv('../ResultAnaAndProcess/NOAA_WL/WS_WD_WG_WL/LSTM/N_LSTM_Model_{}'.format(site_name)+'_True.csv')\n",
    "    df_LightGBM = pd.read_csv('../ResultAnaAndProcess/NOAA_WL/WS_WD_WG_WL/LightGBM/{}'.format(site_name)+'_LightGBM_YPre_Water Level(m).csv')\n",
    "    df_BiLSTM = pd.read_csv('../ResultAnaAndProcess/NOAA_WL/WS_WD_WG_WL/LSTM/BiLSTM_Model_{}'.format(site_name)+'_Pre.csv')\n",
    "    df_StackLSTM= pd.read_csv('../ResultAnaAndProcess/NOAA_WL/WS_WD_WG_WL/LSTM/Stack_LSTM_Model_{}'.format(site_name)+'_Pre.csv')\n",
    "    df_LSTM = pd.read_csv('../ResultAnaAndProcess/NOAA_WL/WS_WD_WG_WL/LSTM/N_LSTM_Model_{}'.format(site_name)+'_Pre.csv')\n",
    "    df_RF = pd.read_csv('../ResultAnaAndProcess/NOAA_WL/WS_WD_WG_WL/RF/RF_{}'.format(site_name)+'_Pre.csv')\n",
    "    df_SVM = pd.read_csv('../ResultAnaAndProcess/NOAA_WL/WS_WD_WG_WL/SVM/SVM_{}'.format(site_name)+'_Pre.csv')\n",
    "    df_XGB = pd.read_csv('../ResultAnaAndProcess/NOAA_WL/WS_WD_WG_WL/XGB/XGB_{}'.format(site_name)+'_Pre.csv')\n",
    "\n",
    "    col_True = df_True.iloc[:,0]\n",
    "    # col_AttentionLSTM = df_AttentionLSTM.iloc[:,0]\n",
    "    col_LightGBM = df_LightGBM.iloc[:,0]\n",
    "    col_BiLSTM = df_BiLSTM.iloc[:,0]\n",
    "    # col_ConvLSTM = df_ConvLSTM.iloc[:,0]\n",
    "    col_StackLSTM = df_StackLSTM.iloc[:,0]\n",
    "    # col_LSTMMultiVar = df_LSTMMultiVar.iloc[:,0]\n",
    "    col_LSTM = df_LSTM.iloc[:,0]\n",
    "    col_RF = df_RF.iloc[:,0]\n",
    "    col_SVM = df_SVM.iloc[:,0]\n",
    "    col_XGB = df_XGB.iloc[:,0]\n",
    "\n",
    "    merged_df = pd.DataFrame({\n",
    "    'True':col_True,\n",
    "    'LightGBM':col_LightGBM,\n",
    "    'BiLSTM':col_BiLSTM,\n",
    "    'StackLSTM ':col_StackLSTM,\n",
    "    'LSTM':col_LSTM,\n",
    "    'RF':col_RF,\n",
    "    'SVM':col_SVM,\n",
    "    'XGB':col_XGB\n",
    "    })\n",
    "\n",
    "    merged_df.to_csv('ContactResult/NOAA/WS_WD_WG_WL/{}'.format(site_name)+'.csv',index=False)\n",
    "\n",
    "\n",
    "    print(df_True)"
   ],
   "metadata": {
    "collapsed": false,
    "pycharm": {
     "name": "#%%\n"
    }
   }
  },
  {
   "cell_type": "markdown",
   "source": [
    "### 读取文件"
   ],
   "metadata": {
    "collapsed": false,
    "pycharm": {
     "name": "#%% md\n"
    }
   }
  },
  {
   "cell_type": "code",
   "execution_count": 12,
   "outputs": [],
   "source": [
    "df_True = pd.read_csv('../ResultAnaAndProcess/Result/All Features/LightGBM/AU-ASM_LightGBM_YTrue_SW_IN_F.csv')\n",
    "df_LightGBM = pd.read_csv('../ResultAnaAndProcess/Result/All Features/LightGBM/AU-ASM_LightGBM_YPre_SW_IN_F.csv')\n",
    "df_BiLSTM = pd.read_csv('../ResultAnaAndProcess/Result/All Features/LSTM/BiLSTM_Model_AU-ASM_Pre.csv')\n",
    "df_StackLSTM= pd.read_csv('../ResultAnaAndProcess/Result/All Features/LSTM/Stack_LSTM_Model_AU-ASM_Pre.csv')\n",
    "df_LSTM = pd.read_csv('../ResultAnaAndProcess/Result/All Features/LSTM/N_LSTM_Model_AU-ASM_Pre.csv')\n",
    "df_RF = pd.read_csv('../ResultAnaAndProcess/Result/All Features/RF/RF_AU-ASM_Pre.csv')\n",
    "df_SVM = pd.read_csv('../ResultAnaAndProcess/Result/All Features/SVM/SVM_AU-ASM_Pre.csv')\n",
    "# df_SVM = pd.read_csv('../ResultAnaAndProcess/Result/All Features/LSTM/BiLSTM_Model_AU-ASM_Pre.csv')\n",
    "df_XGB = pd.read_csv('../ResultAnaAndProcess/Result/All Features/XGB/XGB_AU-ASM_Pre.csv')"
   ],
   "metadata": {
    "collapsed": false,
    "pycharm": {
     "name": "#%%\n"
    }
   }
  },
  {
   "cell_type": "code",
   "execution_count": 13,
   "outputs": [
    {
     "data": {
      "text/plain": "             0\n0    50.431034\n1    42.672414\n2    33.706897\n3    24.051724\n4    14.137931\n..         ...\n295  12.500000\n296  21.724138\n297  31.034483\n298  39.568966\n299  47.327586\n\n[300 rows x 1 columns]",
      "text/html": "<div>\n<style scoped>\n    .dataframe tbody tr th:only-of-type {\n        vertical-align: middle;\n    }\n\n    .dataframe tbody tr th {\n        vertical-align: top;\n    }\n\n    .dataframe thead th {\n        text-align: right;\n    }\n</style>\n<table border=\"1\" class=\"dataframe\">\n  <thead>\n    <tr style=\"text-align: right;\">\n      <th></th>\n      <th>0</th>\n    </tr>\n  </thead>\n  <tbody>\n    <tr>\n      <th>0</th>\n      <td>50.431034</td>\n    </tr>\n    <tr>\n      <th>1</th>\n      <td>42.672414</td>\n    </tr>\n    <tr>\n      <th>2</th>\n      <td>33.706897</td>\n    </tr>\n    <tr>\n      <th>3</th>\n      <td>24.051724</td>\n    </tr>\n    <tr>\n      <th>4</th>\n      <td>14.137931</td>\n    </tr>\n    <tr>\n      <th>...</th>\n      <td>...</td>\n    </tr>\n    <tr>\n      <th>295</th>\n      <td>12.500000</td>\n    </tr>\n    <tr>\n      <th>296</th>\n      <td>21.724138</td>\n    </tr>\n    <tr>\n      <th>297</th>\n      <td>31.034483</td>\n    </tr>\n    <tr>\n      <th>298</th>\n      <td>39.568966</td>\n    </tr>\n    <tr>\n      <th>299</th>\n      <td>47.327586</td>\n    </tr>\n  </tbody>\n</table>\n<p>300 rows × 1 columns</p>\n</div>"
     },
     "execution_count": 13,
     "metadata": {},
     "output_type": "execute_result"
    }
   ],
   "source": [
    "df_True"
   ],
   "metadata": {
    "collapsed": false,
    "pycharm": {
     "name": "#%%\n"
    }
   }
  },
  {
   "cell_type": "code",
   "execution_count": 14,
   "outputs": [],
   "source": [
    "col_True = df_True.iloc[:,0]\n",
    "# col_AttentionLSTM = df_AttentionLSTM.iloc[:,0]\n",
    "col_LightGBM = df_LightGBM.iloc[:,0]\n",
    "col_BiLSTM = df_BiLSTM.iloc[:,0]\n",
    "# col_ConvLSTM = df_ConvLSTM.iloc[:,0]\n",
    "col_StackLSTM = df_StackLSTM.iloc[:,0]\n",
    "# col_LSTMMultiVar = df_LSTMMultiVar.iloc[:,0]\n",
    "col_LSTM = df_LSTM.iloc[:,0]\n",
    "col_RF = df_RF.iloc[:,0]\n",
    "col_SVM = df_SVM.iloc[:,0]\n",
    "col_XGB = df_XGB.iloc[:,0]"
   ],
   "metadata": {
    "collapsed": false,
    "pycharm": {
     "name": "#%%\n"
    }
   }
  },
  {
   "cell_type": "markdown",
   "source": [
    "### 合并为一个csv文件"
   ],
   "metadata": {
    "collapsed": false,
    "pycharm": {
     "name": "#%% md\n"
    }
   }
  },
  {
   "cell_type": "code",
   "execution_count": 15,
   "outputs": [],
   "source": [
    "merged_df = pd.DataFrame({\n",
    "    'True':col_True,\n",
    "    'LightGBM':col_LightGBM,\n",
    "    'BiLSTM':col_BiLSTM,\n",
    "    'StackLSTM ':col_StackLSTM,\n",
    "    'LSTM':col_LSTM,\n",
    "    'RF':col_RF,\n",
    "    'SVM':col_SVM,\n",
    "    'XGB':col_XGB\n",
    "})"
   ],
   "metadata": {
    "collapsed": false,
    "pycharm": {
     "name": "#%%\n"
    }
   }
  },
  {
   "cell_type": "markdown",
   "source": [
    "### 保存CSV文件"
   ],
   "metadata": {
    "collapsed": false,
    "pycharm": {
     "name": "#%% md\n"
    }
   }
  },
  {
   "cell_type": "code",
   "execution_count": 16,
   "outputs": [],
   "source": [
    "merged_df.to_csv('ContactResult/All_Feature_AU_ASM.csv',index=False)"
   ],
   "metadata": {
    "collapsed": false,
    "pycharm": {
     "name": "#%%\n"
    }
   }
  },
  {
   "cell_type": "code",
   "execution_count": null,
   "outputs": [],
   "source": [],
   "metadata": {
    "collapsed": false,
    "pycharm": {
     "name": "#%%\n"
    }
   }
  }
 ],
 "metadata": {
  "kernelspec": {
   "display_name": "Python 3",
   "language": "python",
   "name": "python3"
  },
  "language_info": {
   "codemirror_mode": {
    "name": "ipython",
    "version": 2
   },
   "file_extension": ".py",
   "mimetype": "text/x-python",
   "name": "python",
   "nbconvert_exporter": "python",
   "pygments_lexer": "ipython2",
   "version": "2.7.6"
  }
 },
 "nbformat": 4,
 "nbformat_minor": 0
}