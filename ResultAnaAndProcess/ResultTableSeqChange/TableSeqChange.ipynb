{
 "cells": [
  {
   "cell_type": "code",
   "execution_count": 46,
   "metadata": {
    "collapsed": true,
    "pycharm": {
     "name": "#%%\n"
    }
   },
   "outputs": [],
   "source": [
    "import pandas as pd"
   ]
  },
  {
   "cell_type": "code",
   "execution_count": 47,
   "outputs": [],
   "source": [
    "def change_table_seq(stiename,file_name):\n",
    "    df = pd.read_csv('../FinalResult_Eva/NOAA/{}'.format(file_name)+'/'+'{}'.format(stiename))\n",
    "    df = df.iloc[0:4,0:8]\n",
    "    # 转置表格\n",
    "    df_transposed = df.transpose()\n",
    "\n",
    "    # 设置新的表头\n",
    "    new_header = df_transposed.iloc[0]\n",
    "    df_transposed = df_transposed[1:]\n",
    "    df_transposed.columns = new_header\n",
    "\n",
    "    # 重新排序行\n",
    "    df_transposed = df_transposed.reindex(index=['SVM', 'RF', 'XGB', 'LightGBM', 'LSTM', 'StackLSTM ', 'BiLSTM'])\n",
    "\n",
    "    sitename_split = stiename.split('.')[0]\n",
    "    # 保存为新的CSV文件\n",
    "    df_transposed.to_csv('../FinalResult_Eva/NOAA/{}'.format(file_name)+'/New/'+'{}'.format(sitename_split)+'.csv', index=True, header=True)\n"
   ],
   "metadata": {
    "collapsed": false,
    "pycharm": {
     "name": "#%%\n"
    }
   }
  },
  {
   "cell_type": "code",
   "execution_count": 48,
   "outputs": [
    {
     "name": "stdout",
     "output_type": "stream",
     "text": [
      "Burlington Station.csv\n",
      "-------------------------\n",
      "HONOLULU Station.csv\n",
      "-------------------------\n",
      "KAHUKUI Station.csv\n",
      "-------------------------\n",
      "LaJolla Station.csv\n",
      "-------------------------\n",
      "Nawiliwili Station.csv\n",
      "-------------------------\n"
     ]
    }
   ],
   "source": [
    "import os\n",
    "import glob\n",
    "## 0-3 , 3-5,5-7,7-9,9-12\n",
    "csv_path = '../FinalResult_Eva/NOAA/WS_WD_WG_WL'\n",
    "csv_files = glob.glob(os.path.join(csv_path, '*.csv'))\n",
    "\n",
    "start_index = 0  # 起始索引，即第1个文件\n",
    "end_index = 5 # 结束索引，即第3个文件\n",
    "\n",
    "for index, file in enumerate(csv_files[start_index:end_index]):\n",
    "    stations = os.path.basename(file)\n",
    "    change_table_seq(stations,'WS_WD_WG_WL')\n",
    "\n",
    "    print(os.path.basename(file))\n",
    "    print(\"-------------------------\")"
   ],
   "metadata": {
    "collapsed": false,
    "pycharm": {
     "name": "#%%\n"
    }
   }
  },
  {
   "cell_type": "code",
   "execution_count": 48,
   "outputs": [],
   "source": [],
   "metadata": {
    "collapsed": false,
    "pycharm": {
     "name": "#%%\n"
    }
   }
  },
  {
   "cell_type": "code",
   "execution_count": 74,
   "outputs": [
    {
     "data": {
      "text/plain": "      R2    MAE   RMSE  nRMSE\n0  0.688  0.358  0.389  0.110\n1  0.692  0.357  0.398  0.113\n2  0.680  0.359  0.412  0.117\n3  0.689  0.347  0.393  0.111\n4  0.695  0.346  0.392  0.111\n5    NaN    NaN    NaN    NaN\n6  0.681  0.350  0.390  0.110",
      "text/html": "<div>\n<style scoped>\n    .dataframe tbody tr th:only-of-type {\n        vertical-align: middle;\n    }\n\n    .dataframe tbody tr th {\n        vertical-align: top;\n    }\n\n    .dataframe thead th {\n        text-align: right;\n    }\n</style>\n<table border=\"1\" class=\"dataframe\">\n  <thead>\n    <tr style=\"text-align: right;\">\n      <th></th>\n      <th>R2</th>\n      <th>MAE</th>\n      <th>RMSE</th>\n      <th>nRMSE</th>\n    </tr>\n  </thead>\n  <tbody>\n    <tr>\n      <th>0</th>\n      <td>0.688</td>\n      <td>0.358</td>\n      <td>0.389</td>\n      <td>0.110</td>\n    </tr>\n    <tr>\n      <th>1</th>\n      <td>0.692</td>\n      <td>0.357</td>\n      <td>0.398</td>\n      <td>0.113</td>\n    </tr>\n    <tr>\n      <th>2</th>\n      <td>0.680</td>\n      <td>0.359</td>\n      <td>0.412</td>\n      <td>0.117</td>\n    </tr>\n    <tr>\n      <th>3</th>\n      <td>0.689</td>\n      <td>0.347</td>\n      <td>0.393</td>\n      <td>0.111</td>\n    </tr>\n    <tr>\n      <th>4</th>\n      <td>0.695</td>\n      <td>0.346</td>\n      <td>0.392</td>\n      <td>0.111</td>\n    </tr>\n    <tr>\n      <th>5</th>\n      <td>NaN</td>\n      <td>NaN</td>\n      <td>NaN</td>\n      <td>NaN</td>\n    </tr>\n    <tr>\n      <th>6</th>\n      <td>0.681</td>\n      <td>0.350</td>\n      <td>0.390</td>\n      <td>0.110</td>\n    </tr>\n  </tbody>\n</table>\n</div>"
     },
     "execution_count": 74,
     "metadata": {},
     "output_type": "execute_result"
    }
   ],
   "source": [
    "df = pd.read_csv('../FinalResult_Eva/NOAA/All Features/New/Burlington Station.csv')\n",
    "df = df.iloc[:,:].round(3)\n",
    "df = df[['R2', 'MAE', 'RMSE', 'nRMSE']]\n",
    "df.to_csv('test_new.csv', index=True, header=True)\n",
    "df"
   ],
   "metadata": {
    "collapsed": false,
    "pycharm": {
     "name": "#%%\n"
    }
   }
  },
  {
   "cell_type": "code",
   "execution_count": 66,
   "outputs": [
    {
     "ename": "KeyError",
     "evalue": "\"None of [Index(['R2', 'MAE', 'RMSE', 'nRMSE'], dtype='object', name='Unnamed: 0')] are in the [columns]\"",
     "output_type": "error",
     "traceback": [
      "\u001B[1;31m---------------------------------------------------------------------------\u001B[0m",
      "\u001B[1;31mKeyError\u001B[0m                                  Traceback (most recent call last)",
      "Cell \u001B[1;32mIn[66], line 12\u001B[0m\n\u001B[0;32m      9\u001B[0m \u001B[38;5;66;03m# 重新排序行\u001B[39;00m\n\u001B[0;32m     10\u001B[0m df_transposed \u001B[38;5;241m=\u001B[39m df_transposed\u001B[38;5;241m.\u001B[39mreindex(index\u001B[38;5;241m=\u001B[39m[\u001B[38;5;124m'\u001B[39m\u001B[38;5;124mSVM\u001B[39m\u001B[38;5;124m'\u001B[39m, \u001B[38;5;124m'\u001B[39m\u001B[38;5;124mRF\u001B[39m\u001B[38;5;124m'\u001B[39m, \u001B[38;5;124m'\u001B[39m\u001B[38;5;124mXGB\u001B[39m\u001B[38;5;124m'\u001B[39m, \u001B[38;5;124m'\u001B[39m\u001B[38;5;124mLightGBM\u001B[39m\u001B[38;5;124m'\u001B[39m, \u001B[38;5;124m'\u001B[39m\u001B[38;5;124mLSTM\u001B[39m\u001B[38;5;124m'\u001B[39m, \u001B[38;5;124m'\u001B[39m\u001B[38;5;124mStackLSTM\u001B[39m\u001B[38;5;124m'\u001B[39m, \u001B[38;5;124m'\u001B[39m\u001B[38;5;124mBiLSTM\u001B[39m\u001B[38;5;124m'\u001B[39m])\n\u001B[1;32m---> 12\u001B[0m df_transposed \u001B[38;5;241m=\u001B[39m \u001B[43mdf_transposed\u001B[49m\u001B[43m[\u001B[49m\u001B[43m[\u001B[49m\u001B[38;5;124;43m'\u001B[39;49m\u001B[38;5;124;43mR2\u001B[39;49m\u001B[38;5;124;43m'\u001B[39;49m\u001B[43m,\u001B[49m\u001B[43m \u001B[49m\u001B[38;5;124;43m'\u001B[39;49m\u001B[38;5;124;43mMAE\u001B[39;49m\u001B[38;5;124;43m'\u001B[39;49m\u001B[43m,\u001B[49m\u001B[43m \u001B[49m\u001B[38;5;124;43m'\u001B[39;49m\u001B[38;5;124;43mRMSE\u001B[39;49m\u001B[38;5;124;43m'\u001B[39;49m\u001B[43m,\u001B[49m\u001B[43m \u001B[49m\u001B[38;5;124;43m'\u001B[39;49m\u001B[38;5;124;43mnRMSE\u001B[39;49m\u001B[38;5;124;43m'\u001B[39;49m\u001B[43m]\u001B[49m\u001B[43m]\u001B[49m\n\u001B[0;32m     13\u001B[0m df_transposed \u001B[38;5;241m=\u001B[39m df_transposed\u001B[38;5;241m.\u001B[39mround(decimals\u001B[38;5;241m=\u001B[39m\u001B[38;5;241m3\u001B[39m)\n\u001B[0;32m     14\u001B[0m \u001B[38;5;66;03m#\u001B[39;00m\n\u001B[0;32m     15\u001B[0m \u001B[38;5;66;03m# # 保存为新的CSV文件\u001B[39;00m\n\u001B[0;32m     16\u001B[0m \u001B[38;5;66;03m# df_transposed.to_csv('test_new.csv', index=True, header=True)\u001B[39;00m\n",
      "File \u001B[1;32m~\\AppData\\Local\\Programs\\Python\\Python311\\Lib\\site-packages\\pandas\\core\\frame.py:3813\u001B[0m, in \u001B[0;36mDataFrame.__getitem__\u001B[1;34m(self, key)\u001B[0m\n\u001B[0;32m   3811\u001B[0m     \u001B[38;5;28;01mif\u001B[39;00m is_iterator(key):\n\u001B[0;32m   3812\u001B[0m         key \u001B[38;5;241m=\u001B[39m \u001B[38;5;28mlist\u001B[39m(key)\n\u001B[1;32m-> 3813\u001B[0m     indexer \u001B[38;5;241m=\u001B[39m \u001B[38;5;28;43mself\u001B[39;49m\u001B[38;5;241;43m.\u001B[39;49m\u001B[43mcolumns\u001B[49m\u001B[38;5;241;43m.\u001B[39;49m\u001B[43m_get_indexer_strict\u001B[49m\u001B[43m(\u001B[49m\u001B[43mkey\u001B[49m\u001B[43m,\u001B[49m\u001B[43m \u001B[49m\u001B[38;5;124;43m\"\u001B[39;49m\u001B[38;5;124;43mcolumns\u001B[39;49m\u001B[38;5;124;43m\"\u001B[39;49m\u001B[43m)\u001B[49m[\u001B[38;5;241m1\u001B[39m]\n\u001B[0;32m   3815\u001B[0m \u001B[38;5;66;03m# take() does not accept boolean indexers\u001B[39;00m\n\u001B[0;32m   3816\u001B[0m \u001B[38;5;28;01mif\u001B[39;00m \u001B[38;5;28mgetattr\u001B[39m(indexer, \u001B[38;5;124m\"\u001B[39m\u001B[38;5;124mdtype\u001B[39m\u001B[38;5;124m\"\u001B[39m, \u001B[38;5;28;01mNone\u001B[39;00m) \u001B[38;5;241m==\u001B[39m \u001B[38;5;28mbool\u001B[39m:\n",
      "File \u001B[1;32m~\\AppData\\Local\\Programs\\Python\\Python311\\Lib\\site-packages\\pandas\\core\\indexes\\base.py:6070\u001B[0m, in \u001B[0;36mIndex._get_indexer_strict\u001B[1;34m(self, key, axis_name)\u001B[0m\n\u001B[0;32m   6067\u001B[0m \u001B[38;5;28;01melse\u001B[39;00m:\n\u001B[0;32m   6068\u001B[0m     keyarr, indexer, new_indexer \u001B[38;5;241m=\u001B[39m \u001B[38;5;28mself\u001B[39m\u001B[38;5;241m.\u001B[39m_reindex_non_unique(keyarr)\n\u001B[1;32m-> 6070\u001B[0m \u001B[38;5;28;43mself\u001B[39;49m\u001B[38;5;241;43m.\u001B[39;49m\u001B[43m_raise_if_missing\u001B[49m\u001B[43m(\u001B[49m\u001B[43mkeyarr\u001B[49m\u001B[43m,\u001B[49m\u001B[43m \u001B[49m\u001B[43mindexer\u001B[49m\u001B[43m,\u001B[49m\u001B[43m \u001B[49m\u001B[43maxis_name\u001B[49m\u001B[43m)\u001B[49m\n\u001B[0;32m   6072\u001B[0m keyarr \u001B[38;5;241m=\u001B[39m \u001B[38;5;28mself\u001B[39m\u001B[38;5;241m.\u001B[39mtake(indexer)\n\u001B[0;32m   6073\u001B[0m \u001B[38;5;28;01mif\u001B[39;00m \u001B[38;5;28misinstance\u001B[39m(key, Index):\n\u001B[0;32m   6074\u001B[0m     \u001B[38;5;66;03m# GH 42790 - Preserve name from an Index\u001B[39;00m\n",
      "File \u001B[1;32m~\\AppData\\Local\\Programs\\Python\\Python311\\Lib\\site-packages\\pandas\\core\\indexes\\base.py:6130\u001B[0m, in \u001B[0;36mIndex._raise_if_missing\u001B[1;34m(self, key, indexer, axis_name)\u001B[0m\n\u001B[0;32m   6128\u001B[0m     \u001B[38;5;28;01mif\u001B[39;00m use_interval_msg:\n\u001B[0;32m   6129\u001B[0m         key \u001B[38;5;241m=\u001B[39m \u001B[38;5;28mlist\u001B[39m(key)\n\u001B[1;32m-> 6130\u001B[0m     \u001B[38;5;28;01mraise\u001B[39;00m \u001B[38;5;167;01mKeyError\u001B[39;00m(\u001B[38;5;124mf\u001B[39m\u001B[38;5;124m\"\u001B[39m\u001B[38;5;124mNone of [\u001B[39m\u001B[38;5;132;01m{\u001B[39;00mkey\u001B[38;5;132;01m}\u001B[39;00m\u001B[38;5;124m] are in the [\u001B[39m\u001B[38;5;132;01m{\u001B[39;00maxis_name\u001B[38;5;132;01m}\u001B[39;00m\u001B[38;5;124m]\u001B[39m\u001B[38;5;124m\"\u001B[39m)\n\u001B[0;32m   6132\u001B[0m not_found \u001B[38;5;241m=\u001B[39m \u001B[38;5;28mlist\u001B[39m(ensure_index(key)[missing_mask\u001B[38;5;241m.\u001B[39mnonzero()[\u001B[38;5;241m0\u001B[39m]]\u001B[38;5;241m.\u001B[39munique())\n\u001B[0;32m   6133\u001B[0m \u001B[38;5;28;01mraise\u001B[39;00m \u001B[38;5;167;01mKeyError\u001B[39;00m(\u001B[38;5;124mf\u001B[39m\u001B[38;5;124m\"\u001B[39m\u001B[38;5;132;01m{\u001B[39;00mnot_found\u001B[38;5;132;01m}\u001B[39;00m\u001B[38;5;124m not in index\u001B[39m\u001B[38;5;124m\"\u001B[39m)\n",
      "\u001B[1;31mKeyError\u001B[0m: \"None of [Index(['R2', 'MAE', 'RMSE', 'nRMSE'], dtype='object', name='Unnamed: 0')] are in the [columns]\""
     ]
    }
   ],
   "source": [
    "# 转置表格\n",
    "df_transposed = df.transpose()\n",
    "\n",
    "# 设置新的表头\n",
    "new_header = df_transposed.iloc[0]\n",
    "df_transposed = df_transposed[1:]\n",
    "df_transposed.columns = new_header\n",
    "\n",
    "# 重新排序行\n",
    "df_transposed = df_transposed.reindex(index=['SVM', 'RF', 'XGB', 'LightGBM', 'LSTM', 'StackLSTM', 'BiLSTM'])\n",
    "\n",
    "df_transposed = df_transposed[['R2', 'MAE', 'RMSE', 'nRMSE']]\n",
    "\n",
    "#\n",
    "# # 保存为新的CSV文件\n",
    "# df_transposed.to_csv('test_new.csv', index=True, header=True)"
   ],
   "metadata": {
    "collapsed": false,
    "pycharm": {
     "name": "#%%\n"
    }
   }
  },
  {
   "cell_type": "code",
   "execution_count": 56,
   "outputs": [
    {
     "data": {
      "text/plain": "Index               R2          MAE         RMSE        nRMSE\nSVM        0.687678623  0.358390851  0.389271817  0.110088183\nRF         0.691802533  0.357380868  0.398381055  0.112664325\nXGB        0.679839775  0.359237871  0.412413827   0.11663287\nLightGBM      0.688648     0.346548     0.393183     0.111194\nLSTM       0.695444127  0.345850078  0.391904557  0.110832737\nStackLSTM  0.721426581   0.36720074  0.390798077  0.110519818\nBiLSTM     0.681229433  0.350057625  0.389681638  0.110204083",
      "text/html": "<div>\n<style scoped>\n    .dataframe tbody tr th:only-of-type {\n        vertical-align: middle;\n    }\n\n    .dataframe tbody tr th {\n        vertical-align: top;\n    }\n\n    .dataframe thead th {\n        text-align: right;\n    }\n</style>\n<table border=\"1\" class=\"dataframe\">\n  <thead>\n    <tr style=\"text-align: right;\">\n      <th>Index</th>\n      <th>R2</th>\n      <th>MAE</th>\n      <th>RMSE</th>\n      <th>nRMSE</th>\n    </tr>\n  </thead>\n  <tbody>\n    <tr>\n      <th>SVM</th>\n      <td>0.687678623</td>\n      <td>0.358390851</td>\n      <td>0.389271817</td>\n      <td>0.110088183</td>\n    </tr>\n    <tr>\n      <th>RF</th>\n      <td>0.691802533</td>\n      <td>0.357380868</td>\n      <td>0.398381055</td>\n      <td>0.112664325</td>\n    </tr>\n    <tr>\n      <th>XGB</th>\n      <td>0.679839775</td>\n      <td>0.359237871</td>\n      <td>0.412413827</td>\n      <td>0.11663287</td>\n    </tr>\n    <tr>\n      <th>LightGBM</th>\n      <td>0.688648</td>\n      <td>0.346548</td>\n      <td>0.393183</td>\n      <td>0.111194</td>\n    </tr>\n    <tr>\n      <th>LSTM</th>\n      <td>0.695444127</td>\n      <td>0.345850078</td>\n      <td>0.391904557</td>\n      <td>0.110832737</td>\n    </tr>\n    <tr>\n      <th>StackLSTM</th>\n      <td>0.721426581</td>\n      <td>0.36720074</td>\n      <td>0.390798077</td>\n      <td>0.110519818</td>\n    </tr>\n    <tr>\n      <th>BiLSTM</th>\n      <td>0.681229433</td>\n      <td>0.350057625</td>\n      <td>0.389681638</td>\n      <td>0.110204083</td>\n    </tr>\n  </tbody>\n</table>\n</div>"
     },
     "execution_count": 56,
     "metadata": {},
     "output_type": "execute_result"
    }
   ],
   "source": [
    "df_transposed"
   ],
   "metadata": {
    "collapsed": false,
    "pycharm": {
     "name": "#%%\n"
    }
   }
  },
  {
   "cell_type": "code",
   "execution_count": 30,
   "outputs": [
    {
     "data": {
      "text/plain": "'AA'"
     },
     "execution_count": 30,
     "metadata": {},
     "output_type": "execute_result"
    }
   ],
   "source": [
    "a = 'AA.csv'\n",
    "site_name_split = a.split('.')[0]\n",
    "site_name_split"
   ],
   "metadata": {
    "collapsed": false,
    "pycharm": {
     "name": "#%%\n"
    }
   }
  },
  {
   "cell_type": "code",
   "execution_count": null,
   "outputs": [],
   "source": [],
   "metadata": {
    "collapsed": false,
    "pycharm": {
     "name": "#%%\n"
    }
   }
  }
 ],
 "metadata": {
  "kernelspec": {
   "display_name": "Python 3",
   "language": "python",
   "name": "python3"
  },
  "language_info": {
   "codemirror_mode": {
    "name": "ipython",
    "version": 2
   },
   "file_extension": ".py",
   "mimetype": "text/x-python",
   "name": "python",
   "nbconvert_exporter": "python",
   "pygments_lexer": "ipython2",
   "version": "2.7.6"
  }
 },
 "nbformat": 4,
 "nbformat_minor": 0
}